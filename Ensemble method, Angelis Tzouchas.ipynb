{
 "cells": [
  {
   "cell_type": "code",
   "execution_count": 362,
   "id": "2bad69bd",
   "metadata": {},
   "outputs": [],
   "source": [
    "import pandas as pd\n",
    "import numpy as np\n",
    "import torch\n",
    "import torch.nn as nn\n",
    "from sklearn.model_selection import train_test_split\n",
    "from sklearn.preprocessing import StandardScaler\n",
    "import optuna"
   ]
  },
  {
   "cell_type": "code",
   "execution_count": 363,
   "id": "be09aa57",
   "metadata": {},
   "outputs": [],
   "source": [
    "class Dataset:\n",
    "    def __init__(self, data, targets):\n",
    "        self.data = data\n",
    "        self.targets = targets\n",
    "        \n",
    "    def __len__(self):\n",
    "        return len(self.data)\n",
    "    \n",
    "    def __getitem__(self, idx):\n",
    "        current_samples = self.data[idx,:]\n",
    "        current_target = self.targets[idx]\n",
    "        return {\n",
    "            \"x\": torch.tensor(current_samples, dtype = torch.float),\n",
    "            \"y\": torch.tensor(current_target, dtype = torch.long),\n",
    "        }"
   ]
  },
  {
   "cell_type": "code",
   "execution_count": 364,
   "id": "3538e77f",
   "metadata": {},
   "outputs": [],
   "source": [
    "class Enginee:\n",
    "    def __init__(self, model, optimizer):\n",
    "        self.model = model\n",
    "        self.optimizer = optimizer\n",
    "        \n",
    "    def loss_fn(self, targets, outputs):\n",
    "        return nn.CrossEntropyLoss()(outputs,targets)\n",
    "    \n",
    "    def training(self, data_loader):\n",
    "        self.model.train()\n",
    "        correct = 0\n",
    "        num_samples = 0\n",
    "        training_loss = 0\n",
    "        \n",
    "        for data in data_loader:\n",
    "            x_train = data[\"x\"]\n",
    "            y_train = data[\"y\"]\n",
    "            num_samples = num_samples + len(y_train)\n",
    "            self.optimizer.zero_grad()\n",
    "            output = self.model(x_train)\n",
    "            correct += torch.sum(y_train==torch.max(output,1)[1])\n",
    "            loss = self.loss_fn(y_train,output)\n",
    "            training_loss = training_loss + loss.item()\n",
    "            loss.backward()\n",
    "            self.optimizer.step()\n",
    "            \n",
    "        return training_loss/num_samples , correct/num_samples\n",
    "    \n",
    "    def evaluate(self, data_loader):\n",
    "        self.model.eval()\n",
    "        correct = 0\n",
    "        num_samples = 0\n",
    "        val_loss = 0\n",
    "        list_with_outputs = []\n",
    "        \n",
    "        for data in data_loader:\n",
    "            x_val = data[\"x\"]\n",
    "            y_val = data[\"y\"]\n",
    "            num_samples = num_samples + len(y_val)\n",
    "            output = self.model(x_val)\n",
    "            correct += torch.sum(y_val==torch.max(output,1)[1])\n",
    "            loss = self.loss_fn(y_val,output)\n",
    "            val_loss = val_loss + loss.item()\n",
    "            list_with_outputs.append(torch.max(output, 1)[1])\n",
    "            \n",
    "        return val_loss/num_samples , correct/num_samples, list_with_outputs"
   ]
  },
  {
   "cell_type": "code",
   "execution_count": 365,
   "id": "d6ad0522",
   "metadata": {},
   "outputs": [],
   "source": [
    "class model(nn.Module):\n",
    "    def __init__(self, n_features, n_targets, n_layers, hidden_size, dropout):\n",
    "        super().__init__()\n",
    "        \n",
    "        layers = []\n",
    "        for _ in range(n_layers):\n",
    "            if(len(layers)==0):\n",
    "                layers.append(nn.Linear(n_features,hidden_size))\n",
    "                layers.append(nn.BatchNorm1d(hidden_size))\n",
    "                layers.append(nn.Dropout(dropout))\n",
    "                layers.append(nn.ReLU())\n",
    "            else:\n",
    "                layers.append(nn.Linear(hidden_size,hidden_size))\n",
    "                layers.append(nn.BatchNorm1d(hidden_size))\n",
    "                layers.append(nn.Dropout(dropout))\n",
    "                layers.append(nn.ReLU())\n",
    "        layers.append(nn.Linear(hidden_size, n_targets))\n",
    "        self.model = nn.Sequential(*layers)\n",
    "        \n",
    "        \n",
    "    def forward(self, x):\n",
    "        return self.model(x)"
   ]
  },
  {
   "cell_type": "code",
   "execution_count": 366,
   "id": "8f655002",
   "metadata": {},
   "outputs": [],
   "source": [
    "df_train = pd.read_csv(r'C:\\Users\\anget\\OneDrive\\Desktop\\Arrow R&D ML Engineer - NN Ensemble Data\\train.csv')\n",
    "df_test = pd.read_csv(r'C:\\Users\\anget\\OneDrive\\Desktop\\Arrow R&D ML Engineer - NN Ensemble Data\\test.csv')\n",
    "\n",
    "x_train = df_train.iloc[:,0:393]\n",
    "x_train = x_train.values\n",
    "y_train = df_train.iloc[:,393]\n",
    "y_train = y_train.values\n",
    "x_test = df_test.iloc[:,0:393]\n",
    "x_test = x_test.values\n",
    "y_test = df_test.iloc[:,393]\n",
    "y_test = y_test.values\n",
    "scaler = StandardScaler()\n",
    "\n",
    "x_train , x_val , y_train, y_val = train_test_split(x_train,y_train, test_size = 0.16)\n",
    "\n",
    "x_train = scaler.fit_transform(x_train)\n",
    "x_val = scaler.transform(x_val)\n",
    "x_test = scaler.transform(x_test)"
   ]
  },
  {
   "cell_type": "code",
   "execution_count": 367,
   "id": "ae88a865",
   "metadata": {},
   "outputs": [],
   "source": [
    "params = {\n",
    "        \"num_layers\": 4,\n",
    "        \"hidden_size\": 400,\n",
    "        \"dropout\": 0.3,\n",
    "        \"learning_rate\": 1e-3,\n",
    "    }"
   ]
  },
  {
   "cell_type": "markdown",
   "id": "14f846a1",
   "metadata": {},
   "source": [
    "## Run the model one and plot the training and validation accuracy for the model 1"
   ]
  },
  {
   "cell_type": "code",
   "execution_count": 368,
   "id": "338a628f",
   "metadata": {},
   "outputs": [
    {
     "name": "stdout",
     "output_type": "stream",
     "text": [
      "0.00869470631319379,0.6234126687049866,0.004924193589637677,0.800000011920929\n",
      "0.005337018240538854,0.7779762148857117,0.003917467563102643,0.8412500023841858\n",
      "0.0044154200903953065,0.8185317516326904,0.0034627927591403328,0.8554166555404663\n",
      "0.0038352441953288185,0.8403968214988708,0.003163910508155823,0.8677083253860474\n",
      "0.0034808611053796044,0.8575396537780762,0.002947294811407725,0.8754166960716248\n",
      "0.0032310366583248925,0.866190493106842,0.002875331916535894,0.8810416460037231\n",
      "0.002967337245151164,0.8775396943092346,0.0026345509228607017,0.8954166769981384\n",
      "0.002774128844104116,0.8857142925262451,0.0025316199691345293,0.8987500071525574\n",
      "0.0025867995542902793,0.8922222256660461,0.002451075647647182,0.9010416865348816\n",
      "0.0024519949087074824,0.8957539796829224,0.0023522670070330303,0.9049999713897705\n",
      "0.0023366332539017237,0.902222216129303,0.0023845740345617137,0.9035416841506958\n",
      "0.002230183765410431,0.9064285755157471,0.0022229486905659237,0.9100000262260437\n",
      "0.0020917072389570494,0.913095235824585,0.002335723346720139,0.9100000262260437\n",
      "0.002000944469538,0.9155555367469788,0.0022716978937387467,0.9122916460037231\n",
      "0.001967398633086492,0.9170238375663757,0.0022937753951797883,0.9097916483879089\n",
      "0.001828437252118001,0.9239285588264465,0.0022192647370199363,0.9137499928474426\n",
      "0.0017722003933574471,0.9236904978752136,0.0022146932672088347,0.9145833253860474\n",
      "0.0017128619037213779,0.9286507964134216,0.0022224169364199044,0.9172916412353516\n",
      "0.0016400001431623149,0.931071400642395,0.0021554607603078086,0.9200000166893005\n",
      "0.0016210287676325867,0.9334920644760132,0.002083169422112405,0.9212499856948853\n",
      "0.0015437981631192896,0.9351190328598022,0.0021682958072051406,0.9204166531562805\n",
      "0.0014487831028444427,0.9378968477249146,0.002187170460820198,0.9195833206176758\n",
      "0.0014924055680869117,0.9368253946304321,0.0021474075907220442,0.9206249713897705\n",
      "0.0013986190127593184,0.9392063617706299,0.002114186848824223,0.9241666793823242\n",
      "0.0013742381913794412,0.9417460560798645,0.0021076641247297326,0.9206249713897705\n"
     ]
    }
   ],
   "source": [
    "params = {\n",
    "        \"num_layers\": 4,\n",
    "        \"hidden_size\": 400,\n",
    "        \"dropout\": 0.3,\n",
    "        \"learning_rate\": 1e-3,\n",
    "    }\n",
    "\n",
    "\n",
    "trainset = Dataset(x_train, y_train)\n",
    "auxilary_set = Dataset(x_val, y_val)\n",
    "\n",
    "train_loader = torch.utils.data.DataLoader(trainset , batch_size = 128, shuffle=False, drop_last = False)\n",
    "auxilary_loader = torch.utils.data.DataLoader(auxilary_set , batch_size = 128, shuffle=False, drop_last = False)\n",
    "\n",
    "\n",
    "    \n",
    "modelo1 = model(n_features = 393 , n_targets= 10, n_layers = params['num_layers'], hidden_size=params['hidden_size'], dropout = params['dropout'])\n",
    "optimizer1 = torch.optim.Adam(modelo1.parameters(), lr= params['learning_rate'])\n",
    "\n",
    "eng1 = Enginee(modelo1, optimizer1)\n",
    "\n",
    "best_loss = np.inf\n",
    "best_acc = np.inf\n",
    "early_stopping = 10\n",
    "early_stopping_counter = 0\n",
    "epochs = 30\n",
    "list_with_training_acc = []\n",
    "list_with_validation_acc = []\n",
    "\n",
    "for i in range(0,epochs):\n",
    "    train_loss, train_acc = eng1.training(train_loader)\n",
    "    aux_loss, aux_acc, list_1= eng1.evaluate(auxilary_loader)\n",
    "    list_with_training_acc.append(train_acc.item())\n",
    "    list_with_validation_acc.append(aux_acc.item())\n",
    "    print(f'{train_loss},{train_acc},{aux_loss},{aux_acc}')\n",
    "    if(best_loss> aux_loss):\n",
    "        best_loss = aux_loss\n",
    "        best_acc = aux_acc\n",
    "    else:\n",
    "        early_stopping_counter += 1\n",
    "        \n",
    "    if(early_stopping_counter == early_stopping):\n",
    "        break\n",
    "        \n"
   ]
  },
  {
   "cell_type": "code",
   "execution_count": 369,
   "id": "b9c68c61",
   "metadata": {},
   "outputs": [
    {
     "data": {
      "text/plain": [
       "Text(0.5, 1.0, 'Model 1')"
      ]
     },
     "execution_count": 369,
     "metadata": {},
     "output_type": "execute_result"
    },
    {
     "data": {
      "image/png": "[encoded data removed]",
      "text/plain": [
       "<Figure size 432x288 with 1 Axes>"
      ]
     },
     "metadata": {
      "needs_background": "light"
     },
     "output_type": "display_data"
    }
   ],
   "source": [
    "plt.plot(list_with_training_acc, '-b', label='training_acc')\n",
    "plt.plot(list_with_validation_acc, '-r', label='validation_acc')\n",
    "\n",
    "plt.xlabel(\"n iteration\")\n",
    "plt.legend(loc='upper left')\n",
    "plt.title('Model 1')"
   ]
  },
  {
   "cell_type": "code",
   "execution_count": 370,
   "id": "4362cf20",
   "metadata": {},
   "outputs": [],
   "source": [
    "outputs_of_model_1 = []\n",
    "for i in range(0,len(list_1)):\n",
    "    outputs_of_model_1.extend(list_1[i])"
   ]
  },
  {
   "cell_type": "code",
   "execution_count": null,
   "id": "8d941d9b",
   "metadata": {},
   "outputs": [],
   "source": []
  },
  {
   "cell_type": "code",
   "execution_count": 361,
   "id": "22ebaa27",
   "metadata": {},
   "outputs": [
    {
     "data": {
      "text/plain": [
       "4459"
      ]
     },
     "execution_count": 361,
     "metadata": {},
     "output_type": "execute_result"
    }
   ],
   "source": []
  },
  {
   "cell_type": "markdown",
   "id": "3ea33d2c",
   "metadata": {},
   "source": [
    "# Run the model 2, print the training and validation accuracies, as well"
   ]
  },
  {
   "cell_type": "code",
   "execution_count": 371,
   "id": "caf21224",
   "metadata": {},
   "outputs": [
    {
     "name": "stdout",
     "output_type": "stream",
     "text": [
      "0.014413853505301097,0.35210317373275757,0.010673742617170016,0.5412499904632568\n",
      "0.010057778694326915,0.5603174567222595,0.00800717314084371,0.6743749976158142\n",
      "0.008169529728946232,0.6574206352233887,0.006106932672361533,0.7618749737739563\n",
      "0.0067499335890724545,0.7207539677619934,0.004956964931140343,0.8035416603088379\n",
      "0.005832763889006206,0.7602381110191345,0.00434337854385376,0.8291666507720947\n",
      "0.005244738182851247,0.7876587510108948,0.00394358176117142,0.8458333611488342\n",
      "0.0047819408443239,0.8032539486885071,0.003746282942593098,0.8458333611488342\n",
      "0.004476496267413336,0.8149206638336182,0.003510355728988846,0.8587499856948853\n",
      "0.004197439345575514,0.8256745934486389,0.0033303112629801037,0.8647916913032532\n",
      "0.003932191781581394,0.8375793695449829,0.0031960512045770884,0.8706250190734863\n",
      "0.003831109471973919,0.8422222137451172,0.0031523484829813243,0.8722916841506958\n",
      "0.003655712978234367,0.8506746292114258,0.0030412543844431637,0.8772916793823242\n",
      "0.003512113575660993,0.8552777767181396,0.0029200500311950843,0.8829166889190674\n",
      "0.003382108429121593,0.8603571653366089,0.0028881100844591855,0.8860416412353516\n",
      "0.0032439962230504504,0.8673809766769409,0.0027877703433235486,0.8887500166893005\n",
      "0.0031472979503728094,0.8712698221206665,0.0027686086669564246,0.8885416388511658\n",
      "0.003057463238873179,0.8739285469055176,0.0027157155238091944,0.8883333206176758\n",
      "0.0029616528554331687,0.8765873312950134,0.0026259294307480257,0.8962500095367432\n",
      "0.0028469821532803867,0.8822222352027893,0.002623457390194138,0.8941666483879089\n",
      "0.002758554664869157,0.8845635056495667,0.002635098034515977,0.8972916603088379\n",
      "0.0026865349455721796,0.8895635008811951,0.0026157906791195273,0.8954166769981384\n",
      "0.0026607571613220943,0.8898412585258484,0.0025450143000731867,0.8977083563804626\n",
      "0.002530923635950164,0.897857129573822,0.0025253967707976697,0.9012500047683716\n",
      "0.00253603101841041,0.8952381014823914,0.002488755399050812,0.8993750214576721\n",
      "0.002467187906778048,0.8958730101585388,0.0024686233652755616,0.9024999737739563\n",
      "0.002358722181192466,0.901706337928772,0.0024570448355128367,0.9008333086967468\n",
      "0.002337945398120653,0.9013491868972778,0.002441382099253436,0.9049999713897705\n",
      "0.0022764067582431292,0.9048412442207336,0.002384857712313533,0.9047916531562805\n",
      "0.002234266766361774,0.9062698483467102,0.002369397225168844,0.9047916531562805\n",
      "0.0021511803632454267,0.9100396633148193,0.002367183209086458,0.9052083492279053\n"
     ]
    }
   ],
   "source": [
    "params = {\n",
    "        \"num_layers\": 5,\n",
    "        \"hidden_size\": 300,\n",
    "        \"dropout\": 0.2,\n",
    "        \"learning_rate\": 1e-4,\n",
    "    }\n",
    "\n",
    "\n",
    "trainset = Dataset(x_train, y_train)\n",
    "auxilary_set = Dataset(x_val, y_val)\n",
    "\n",
    "train_loader = torch.utils.data.DataLoader(trainset , batch_size = 128, shuffle=False, drop_last = False)\n",
    "auxilary_loader = torch.utils.data.DataLoader(auxilary_set , batch_size = 128, shuffle=False, drop_last = False)\n",
    "\n",
    "\n",
    "    \n",
    "modelo2 = model(n_features = 393 , n_targets= 10, n_layers = params['num_layers'], hidden_size=params['hidden_size'], dropout = params['dropout'])\n",
    "optimizer2 = torch.optim.Adam(modelo2.parameters(), lr= params['learning_rate'])\n",
    "\n",
    "eng2 = Enginee(modelo2, optimizer2)\n",
    "\n",
    "best_loss = np.inf\n",
    "best_acc = np.inf\n",
    "early_stopping = 10\n",
    "early_stopping_counter = 0\n",
    "epochs = 30\n",
    "list_with_training_acc = []\n",
    "list_with_validation_acc = []\n",
    "\n",
    "for i in range(0,epochs):\n",
    "    train_loss, train_acc = eng2.training(train_loader)\n",
    "    aux_loss, aux_acc, list_2 = eng2.evaluate(auxilary_loader)\n",
    "    list_with_training_acc.append(train_acc.item())\n",
    "    list_with_validation_acc.append(aux_acc.item())\n",
    "    print(f'{train_loss},{train_acc},{aux_loss},{aux_acc}')\n",
    "    if(best_loss> aux_loss):\n",
    "        best_loss = aux_loss\n",
    "        best_acc = aux_acc\n",
    "    else:\n",
    "        early_stopping_counter += 1\n",
    "        \n",
    "    if(early_stopping_counter == early_stopping):\n",
    "        break"
   ]
  },
  {
   "cell_type": "code",
   "execution_count": 372,
   "id": "c0ca73ad",
   "metadata": {},
   "outputs": [
    {
     "data": {
      "text/plain": [
       "Text(0.5, 1.0, 'Model 2')"
      ]
     },
     "execution_count": 372,
     "metadata": {},
     "output_type": "execute_result"
    },
    {
     "data": {
      "image/png": "[encoded data removed]",
      "text/plain": [
       "<Figure size 432x288 with 1 Axes>"
      ]
     },
     "metadata": {
      "needs_background": "light"
     },
     "output_type": "display_data"
    }
   ],
   "source": [
    "plt.plot(list_with_training_acc, '-b', label='training_acc')\n",
    "plt.plot(list_with_validation_acc, '-r', label='validation_acc')\n",
    "\n",
    "plt.xlabel(\"n iteration\")\n",
    "plt.legend(loc='upper left')\n",
    "plt.title('Model 2')"
   ]
  },
  {
   "cell_type": "code",
   "execution_count": 373,
   "id": "506fdb54",
   "metadata": {},
   "outputs": [],
   "source": [
    "outputs_of_model_2 = []\n",
    "for i in range(0,len(list_2)):\n",
    "    outputs_of_model_2.extend(list_2[i])"
   ]
  },
  {
   "cell_type": "markdown",
   "id": "042c71f0",
   "metadata": {},
   "source": [
    "# Run the model 3, print the training and validation accuracies, as well"
   ]
  },
  {
   "cell_type": "code",
   "execution_count": 374,
   "id": "d118e3f9",
   "metadata": {},
   "outputs": [
    {
     "name": "stdout",
     "output_type": "stream",
     "text": [
      "0.013213082381657191,0.4029761850833893,0.009099523338178794,0.6043750047683716\n",
      "0.008689712818179813,0.6187301874160767,0.006125955941776434,0.7514583468437195\n",
      "0.006577123926272468,0.7215873003005981,0.004750197995454073,0.8060416579246521\n",
      "0.005415625804000431,0.7731349468231201,0.00407294653976957,0.8345833420753479\n",
      "0.0047509519945061396,0.8029364943504333,0.0037049606877068678,0.8477083444595337\n",
      "0.004259986859701929,0.823452353477478,0.0034616913460195063,0.8585416674613953\n",
      "0.003945348453190591,0.8378968238830566,0.003203839600707094,0.8677083253860474\n",
      "0.0036311628787763536,0.8471428751945496,0.0029854999637852113,0.8777083158493042\n",
      "0.0034528390247197376,0.8558729887008667,0.002908244359617432,0.8833333253860474\n",
      "0.003213548558571982,0.8662301301956177,0.0028302035325517257,0.887499988079071\n",
      "0.0030317136881843447,0.8730555772781372,0.0026838363024095694,0.893541693687439\n",
      "0.0029042530881743583,0.8789682388305664,0.0027138268233587344,0.8931249976158142\n",
      "0.0027726731892852557,0.8851587176322937,0.0025530099666987854,0.8979166746139526\n",
      "0.0026593128621341692,0.8876984119415283,0.0025579574843868614,0.9035416841506958\n",
      "0.002502760881824153,0.8965873122215271,0.0025497085026775796,0.8999999761581421\n",
      "0.0024376725695199435,0.8965079188346863,0.002469341584170858,0.9058333039283752\n",
      "0.0023405061254189127,0.9019444584846497,0.0024385829316452144,0.9058333039283752\n",
      "0.0022514549104703796,0.9052777886390686,0.002375520064185063,0.90645831823349\n",
      "0.002097774477941649,0.9111111164093018,0.0023351253491515913,0.9089583158493042\n",
      "0.0021074219444204892,0.9101983904838562,0.002312564745855828,0.9054166674613953\n",
      "0.0020208180086716773,0.9144444465637207,0.002330680515927573,0.9087499976158142\n",
      "0.001944862918129989,0.9199206233024597,0.0023009019189824662,0.9125000238418579\n",
      "0.0018600393760771978,0.9196428656578064,0.0022889968985691667,0.9150000214576721\n",
      "0.001789767893829516,0.9232936501502991,0.002251740456558764,0.9156249761581421\n",
      "0.0017697381373080942,0.9240872859954834,0.002307395958341658,0.9152083396911621\n",
      "0.0017122246443279205,0.9277380704879761,0.002249538830171029,0.9145833253860474\n",
      "0.0016903755648268594,0.9280555844306946,0.0021656469193597635,0.918541669845581\n",
      "0.0016302554276845758,0.9315476417541504,0.002133155846968293,0.918749988079071\n",
      "0.0016123964939089048,0.9304364919662476,0.0022181313904002307,0.9162499904632568\n",
      "0.001541834758624198,0.9350000023841858,0.0022115056216716767,0.9175000190734863\n"
     ]
    }
   ],
   "source": [
    "params = {\n",
    "        \"num_layers\": 5,\n",
    "        \"hidden_size\": 700,\n",
    "        \"dropout\": 0.3,\n",
    "        \"learning_rate\": 1e-4,\n",
    "    }\n",
    "\n",
    "\n",
    "trainset = Dataset(x_train, y_train)\n",
    "auxilary_set = Dataset(x_val, y_val)\n",
    "\n",
    "train_loader = torch.utils.data.DataLoader(trainset , batch_size = 128, shuffle=False, drop_last = False)\n",
    "auxilary_loader = torch.utils.data.DataLoader(auxilary_set , batch_size = 128, shuffle=False, drop_last = False)\n",
    "\n",
    "\n",
    "    \n",
    "modelo3 = model(n_features = 393 , n_targets= 10, n_layers = params['num_layers'], hidden_size=params['hidden_size'], dropout = params['dropout'])\n",
    "optimizer3 = torch.optim.Adam(modelo3.parameters(), lr= params['learning_rate'])\n",
    "\n",
    "eng3 = Enginee(modelo3, optimizer3)\n",
    "\n",
    "best_loss = np.inf\n",
    "best_acc = np.inf\n",
    "early_stopping = 10\n",
    "early_stopping_counter = 0\n",
    "epochs = 30\n",
    "list_with_training_acc = []\n",
    "list_with_validation_acc = []\n",
    "\n",
    "for i in range(0,epochs):\n",
    "    train_loss, train_acc = eng3.training(train_loader)\n",
    "    aux_loss, aux_acc, list_3 = eng3.evaluate(auxilary_loader)\n",
    "    list_with_training_acc.append(train_acc.item())\n",
    "    list_with_validation_acc.append(aux_acc.item())\n",
    "    print(f'{train_loss},{train_acc},{aux_loss},{aux_acc}')\n",
    "    if(best_loss> aux_loss):\n",
    "        best_loss = aux_loss\n",
    "        best_acc = aux_acc\n",
    "    else:\n",
    "        early_stopping_counter += 1\n",
    "        \n",
    "    if(early_stopping_counter == early_stopping):\n",
    "        break"
   ]
  },
  {
   "cell_type": "code",
   "execution_count": 375,
   "id": "8e529841",
   "metadata": {},
   "outputs": [
    {
     "data": {
      "text/plain": [
       "Text(0.5, 1.0, 'Model 3')"
      ]
     },
     "execution_count": 375,
     "metadata": {},
     "output_type": "execute_result"
    },
    {
     "data": {
      "image/png": "[encoded data removed]",
      "text/plain": [
       "<Figure size 432x288 with 1 Axes>"
      ]
     },
     "metadata": {
      "needs_background": "light"
     },
     "output_type": "display_data"
    }
   ],
   "source": [
    "plt.plot(list_with_training_acc, '-b', label='training_acc')\n",
    "plt.plot(list_with_validation_acc, '-r', label='validation_acc')\n",
    "\n",
    "plt.xlabel(\"n iteration\")\n",
    "plt.legend(loc='upper left')\n",
    "plt.title('Model 3')"
   ]
  },
  {
   "cell_type": "code",
   "execution_count": 376,
   "id": "2e7e1a86",
   "metadata": {},
   "outputs": [],
   "source": [
    "outputs_of_model_3 = []\n",
    "for i in range(0,len(list_3)):\n",
    "    outputs_of_model_3.extend(list_3[i])"
   ]
  },
  {
   "cell_type": "markdown",
   "id": "4c556386",
   "metadata": {},
   "source": [
    "# Run the model 4, print the training and validation accuracies, as well"
   ]
  },
  {
   "cell_type": "code",
   "execution_count": 377,
   "id": "af423d07",
   "metadata": {},
   "outputs": [
    {
     "name": "stdout",
     "output_type": "stream",
     "text": [
      "0.007994854185316298,0.6532142758369446,0.004590762661149104,0.8147916793823242\n",
      "0.004724767178533569,0.8064682483673096,0.0035295433923602103,0.8514583110809326\n",
      "0.003884704755175681,0.8400793671607971,0.0031183499346176782,0.8725000023841858\n",
      "0.0033247702060237765,0.8642063736915588,0.0029167682894816003,0.8808333277702332\n",
      "0.0029492291009851866,0.879365086555481,0.0027887881205727657,0.8839583396911621\n",
      "0.0026723373279212014,0.8861904740333557,0.0025574355324109394,0.8952083587646484\n",
      "0.0024053900653407687,0.9017460346221924,0.0025274696480482818,0.9010416865348816\n",
      "0.00226584083504147,0.9053968191146851,0.0023560919985175133,0.9066666960716248\n",
      "0.002112520185136606,0.9135714173316956,0.002228099753459295,0.9100000262260437\n",
      "0.0019778754026998605,0.9172618985176086,0.0022714096990724404,0.9139583110809326\n",
      "0.0018755838904707205,0.9207539558410645,0.0022083630443861086,0.9127083420753479\n",
      "0.0017660494648393185,0.9258730411529541,0.0023032992333173754,0.9085416793823242\n",
      "0.0016139058703704486,0.9324603080749512,0.0022582929177830616,0.9166666865348816\n",
      "0.0015240461231460648,0.9345635175704956,0.0022419613863651953,0.9172916412353516\n",
      "0.0014525260139138453,0.9373809695243835,0.0023990443038443723,0.9114583134651184\n",
      "0.001425672960541551,0.9392856955528259,0.0020835587149485944,0.9191666841506958\n",
      "0.0013724863292678953,0.9416269659996033,0.002126101547231277,0.92208331823349\n",
      "0.001293285016916574,0.9442063570022583,0.0021381024597212674,0.9237499833106995\n",
      "0.0011950018555517234,0.9498412609100342,0.00208684787619859,0.9275000095367432\n",
      "0.001138699117397505,0.950436532497406,0.002149243994305531,0.9241666793823242\n",
      "0.0010933336515038734,0.9528968334197998,0.00222096242941916,0.9243749976158142\n"
     ]
    }
   ],
   "source": [
    "params = {\n",
    "        \"num_layers\": 5,\n",
    "        \"hidden_size\": 700,\n",
    "        \"dropout\": 0.3,\n",
    "        \"learning_rate\": 1e-3,\n",
    "    }\n",
    "\n",
    "\n",
    "trainset = Dataset(x_train, y_train)\n",
    "auxilary_set = Dataset(x_val, y_val)\n",
    "\n",
    "train_loader = torch.utils.data.DataLoader(trainset , batch_size = 128, shuffle=False, drop_last = False)\n",
    "auxilary_loader = torch.utils.data.DataLoader(auxilary_set , batch_size = 128, shuffle=False, drop_last = False)\n",
    "\n",
    "\n",
    "    \n",
    "modelo4 = model(n_features = 393 , n_targets= 10, n_layers = params['num_layers'], hidden_size=params['hidden_size'], dropout = params['dropout'])\n",
    "optimizer4 = torch.optim.Adam(modelo4.parameters(), lr= params['learning_rate'])\n",
    "\n",
    "eng4 = Enginee(modelo4, optimizer4)\n",
    "\n",
    "best_loss = np.inf\n",
    "best_acc = np.inf\n",
    "early_stopping = 10\n",
    "early_stopping_counter = 0\n",
    "epochs = 30\n",
    "list_with_training_acc = []\n",
    "list_with_validation_acc = []\n",
    "\n",
    "for i in range(0,epochs):\n",
    "    train_loss, train_acc = eng4.training(train_loader)\n",
    "    aux_loss, aux_acc, list_4 = eng4.evaluate(auxilary_loader)\n",
    "    list_with_training_acc.append(train_acc.item())\n",
    "    list_with_validation_acc.append(aux_acc.item())\n",
    "    print(f'{train_loss},{train_acc},{aux_loss},{aux_acc}')\n",
    "    if(best_loss> aux_loss):\n",
    "        best_loss = aux_loss\n",
    "        best_acc = aux_acc\n",
    "    else:\n",
    "        early_stopping_counter += 1\n",
    "        \n",
    "    if(early_stopping_counter == early_stopping):\n",
    "        break"
   ]
  },
  {
   "cell_type": "code",
   "execution_count": 378,
   "id": "867de795",
   "metadata": {},
   "outputs": [
    {
     "data": {
      "text/plain": [
       "Text(0.5, 1.0, 'Model 4')"
      ]
     },
     "execution_count": 378,
     "metadata": {},
     "output_type": "execute_result"
    },
    {
     "data": {
      "image/png": "[encoded data removed]",
      "text/plain": [
       "<Figure size 432x288 with 1 Axes>"
      ]
     },
     "metadata": {
      "needs_background": "light"
     },
     "output_type": "display_data"
    }
   ],
   "source": [
    "plt.plot(list_with_training_acc, '-b', label='training_acc')\n",
    "plt.plot(list_with_validation_acc, '-r', label='validation_acc')\n",
    "\n",
    "plt.xlabel(\"n iteration\")\n",
    "plt.legend(loc='upper left')\n",
    "plt.title('Model 4')"
   ]
  },
  {
   "cell_type": "code",
   "execution_count": 379,
   "id": "7bf33ff0",
   "metadata": {},
   "outputs": [],
   "source": [
    "outputs_of_model_4 = []\n",
    "for i in range(0,len(list_4)):\n",
    "    outputs_of_model_4.extend(list_4[i])"
   ]
  },
  {
   "cell_type": "markdown",
   "id": "c9329d88",
   "metadata": {},
   "source": [
    "# Run the model 5, print the training and validation accuracies, as well"
   ]
  },
  {
   "cell_type": "code",
   "execution_count": 380,
   "id": "697ac902",
   "metadata": {},
   "outputs": [
    {
     "name": "stdout",
     "output_type": "stream",
     "text": [
      "0.006677349445129197,0.7128174901008606,0.004398354074607293,0.8206250071525574\n",
      "0.0038761631304782534,0.8415079116821289,0.003608129673327009,0.8583333492279053\n",
      "0.0030295572305719057,0.8749603033065796,0.0032180416149397693,0.8729166388511658\n",
      "0.002530573689866634,0.8951190710067749,0.0029503419250249863,0.8870833516120911\n",
      "0.0022372906146541473,0.9080555438995361,0.002753684393440684,0.8933333158493042\n",
      "0.0019413590549476564,0.9186508059501648,0.002872125506401062,0.8970833420753479\n",
      "0.0017657001233763166,0.928174614906311,0.002740694411719839,0.8993750214576721\n",
      "0.0015338587731359497,0.9360714554786682,0.0028601947240531446,0.8983333110809326\n",
      "0.0014127312510436962,0.9416269659996033,0.0028022528160363434,0.8968750238418579\n",
      "0.0013075935340944736,0.943928599357605,0.002575731392328938,0.902916669845581\n",
      "0.001230422393197105,0.946825385093689,0.0026703581213951113,0.9068750143051147\n",
      "0.001074414848394337,0.9530555605888367,0.0024912169482558966,0.9150000214576721\n",
      "0.0010498858331185249,0.954880952835083,0.002593347610284885,0.9085416793823242\n",
      "0.0009876007795156468,0.9583730101585388,0.002657384875540932,0.9102083444595337\n",
      "0.000925245799109458,0.9611111283302307,0.0026038869408269725,0.9110416769981384\n",
      "0.0008685563002816505,0.962658703327179,0.002555685599024097,0.9170833230018616\n",
      "0.0007994337129362283,0.9656745791435242,0.002418550856721898,0.9154166579246521\n",
      "0.0007389723754207057,0.9684126973152161,0.002485717087984085,0.9164583086967468\n",
      "0.0007301365227128069,0.967817485332489,0.0024317403711999457,0.9179166555404663\n"
     ]
    }
   ],
   "source": [
    "params = {\n",
    "        \"num_layers\": 6,\n",
    "        \"hidden_size\": 1000,\n",
    "        \"dropout\": 0.2,\n",
    "        \"learning_rate\": 1e-3,\n",
    "    }\n",
    "\n",
    "\n",
    "trainset = Dataset(x_train, y_train)\n",
    "auxilary_set = Dataset(x_val, y_val)\n",
    "\n",
    "train_loader = torch.utils.data.DataLoader(trainset , batch_size = 128, shuffle=False, drop_last = False)\n",
    "auxilary_loader = torch.utils.data.DataLoader(auxilary_set , batch_size = 128, shuffle=False, drop_last = False)\n",
    "\n",
    "\n",
    "    \n",
    "modelo5 = model(n_features = 393 , n_targets= 10, n_layers = params['num_layers'], hidden_size=params['hidden_size'], dropout = params['dropout'])\n",
    "optimizer5 = torch.optim.Adam(modelo5.parameters(), lr= params['learning_rate'])\n",
    "\n",
    "eng5 = Enginee(modelo5, optimizer5)\n",
    "\n",
    "best_loss = np.inf\n",
    "best_acc = np.inf\n",
    "early_stopping = 10\n",
    "early_stopping_counter = 0\n",
    "epochs = 30\n",
    "list_with_training_acc = []\n",
    "list_with_validation_acc = []\n",
    "\n",
    "for i in range(0,epochs):\n",
    "    train_loss, train_acc = eng5.training(train_loader)\n",
    "    aux_loss, aux_acc, list_5 = eng5.evaluate(auxilary_loader)\n",
    "    list_with_training_acc.append(train_acc.item())\n",
    "    list_with_validation_acc.append(aux_acc.item())\n",
    "    print(f'{train_loss},{train_acc},{aux_loss},{aux_acc}')\n",
    "    if(best_loss> aux_loss):\n",
    "        best_loss = aux_loss\n",
    "        best_acc = aux_acc\n",
    "    else:\n",
    "        early_stopping_counter += 1\n",
    "        \n",
    "    if(early_stopping_counter == early_stopping):\n",
    "        break"
   ]
  },
  {
   "cell_type": "code",
   "execution_count": 381,
   "id": "f982bab8",
   "metadata": {},
   "outputs": [
    {
     "data": {
      "text/plain": [
       "Text(0.5, 1.0, 'Model 5')"
      ]
     },
     "execution_count": 381,
     "metadata": {},
     "output_type": "execute_result"
    },
    {
     "data": {
      "image/png": "[encoded data removed]",
      "text/plain": [
       "<Figure size 432x288 with 1 Axes>"
      ]
     },
     "metadata": {
      "needs_background": "light"
     },
     "output_type": "display_data"
    }
   ],
   "source": [
    "plt.plot(list_with_training_acc, '-b', label='training_acc')\n",
    "plt.plot(list_with_validation_acc, '-r', label='validation_acc')\n",
    "\n",
    "plt.xlabel(\"n iteration\")\n",
    "plt.legend(loc='upper left')\n",
    "plt.title('Model 5')"
   ]
  },
  {
   "cell_type": "code",
   "execution_count": 382,
   "id": "fb6c7eea",
   "metadata": {},
   "outputs": [],
   "source": [
    "outputs_of_model_5 = []\n",
    "for i in range(0,len(list_5)):\n",
    "    outputs_of_model_5.extend(list_5[i])"
   ]
  },
  {
   "cell_type": "markdown",
   "id": "7e8e5d8f",
   "metadata": {},
   "source": [
    "# The outputs_of_models list contains the probabilities of every model, useful for calculating the validation accuracy of the ensemble model"
   ]
  },
  {
   "cell_type": "code",
   "execution_count": 400,
   "id": "86c56931",
   "metadata": {},
   "outputs": [],
   "source": [
    "y_prediction_ensemble_val = []\n",
    "for i in range(0,len(y_val)):\n",
    "    lista = [outputs_of_model_1[i],outputs_of_model_2[i],outputs_of_model_3[i],outputs_of_model_4[i],outputs_of_model_5[i]]\n",
    "    counts = np.bincount(lista)\n",
    "    y_prediction_ensemble_val.append(np.argmax(counts))"
   ]
  },
  {
   "cell_type": "code",
   "execution_count": 401,
   "id": "7e94a1c4",
   "metadata": {},
   "outputs": [
    {
     "name": "stdout",
     "output_type": "stream",
     "text": [
      "Validation accuracy for the ensemble method: 0.9295833333333333\n"
     ]
    }
   ],
   "source": [
    "counter = 0\n",
    "for i in range(0,len(y_val)):\n",
    "    if(y_val[i]==y_prediction_ensemble_val[i]):\n",
    "        counter += 1\n",
    "        \n",
    "print('Validation accuracy for the ensemble method:', counter/len(y_val))"
   ]
  },
  {
   "cell_type": "code",
   "execution_count": 404,
   "id": "4abfc2b7",
   "metadata": {},
   "outputs": [],
   "source": [
    "# for decision on the ensembling method, i use the majority voting"
   ]
  },
  {
   "cell_type": "code",
   "execution_count": 406,
   "id": "75ae36a7",
   "metadata": {},
   "outputs": [
    {
     "name": "stdout",
     "output_type": "stream",
     "text": [
      "Test accuracy for the ensemble method: 0.8215\n"
     ]
    }
   ],
   "source": [
    "test_set = Dataset(x_test, y_test)\n",
    "test_loader = torch.utils.data.DataLoader(test_set , batch_size = 128, shuffle=False, drop_last = False)\n",
    "\n",
    "aux_loss, aux_acc, list_1_for_test = eng1.evaluate(test_loader)\n",
    "aux_loss, aux_acc, list_2_for_test = eng2.evaluate(test_loader)\n",
    "aux_loss, aux_acc, list_3_for_test = eng3.evaluate(test_loader)\n",
    "aux_loss, aux_acc, list_4_for_test = eng4.evaluate(test_loader)\n",
    "aux_loss, aux_acc, list_5_for_test = eng5.evaluate(test_loader)\n",
    "\n",
    "test_outputs_of_model_1 = []\n",
    "for i in range(0,len(list_1_for_test)):\n",
    "    test_outputs_of_model_1.extend(list_1_for_test[i])\n",
    "    \n",
    "test_outputs_of_model_2 = []\n",
    "for i in range(0,len(list_2_for_test)):\n",
    "    test_outputs_of_model_2.extend(list_2_for_test[i])\n",
    "    \n",
    "test_outputs_of_model_3 = []\n",
    "for i in range(0,len(list_3_for_test)):\n",
    "    test_outputs_of_model_3.extend(list_3_for_test[i])\n",
    "    \n",
    "test_outputs_of_model_4 = []\n",
    "for i in range(0,len(list_4_for_test)):\n",
    "    test_outputs_of_model_4.extend(list_4_for_test[i])\n",
    "    \n",
    "test_outputs_of_model_5 = []\n",
    "for i in range(0,len(list_5_for_test)):\n",
    "    test_outputs_of_model_5.extend(list_5_for_test[i])\n",
    "    \n",
    "y_prediction_ensemble_test = []\n",
    "for i in range(0,len(y_test)):\n",
    "    lista = [test_outputs_of_model_1[i],test_outputs_of_model_2[i],test_outputs_of_model_3[i],test_outputs_of_model_4[i],test_outputs_of_model_5[i]]\n",
    "    counts = np.bincount(lista)\n",
    "    y_prediction_ensemble_test.append(np.argmax(counts))\n",
    "\n",
    "counter = 0\n",
    "for i in range(0,len(y_test)):\n",
    "    if(y_test[i]==y_prediction_ensemble_test[i]):\n",
    "        counter += 1\n",
    "        \n",
    "print('Test accuracy for the ensemble method:', counter/len(y_test))"
   ]
  },
  {
   "cell_type": "markdown",
   "id": "8f3afc7c",
   "metadata": {},
   "source": [
    "# Thank you very much"
   ]
  },
  {
   "cell_type": "markdown",
   "id": "3658bc8c",
   "metadata": {},
   "source": [
    "# Angelis Tzouchas"
   ]
  }
 ],
 "metadata": {
  "kernelspec": {
   "display_name": "Python 3",
   "language": "python",
   "name": "python3"
  },
  "language_info": {
   "codemirror_mode": {
    "name": "ipython",
    "version": 3
   },
   "file_extension": ".py",
   "mimetype": "text/x-python",
   "name": "python",
   "nbconvert_exporter": "python",
   "pygments_lexer": "ipython3",
   "version": "3.8.8"
  }
 },
 "nbformat": 4,
 "nbformat_minor": 5
}
